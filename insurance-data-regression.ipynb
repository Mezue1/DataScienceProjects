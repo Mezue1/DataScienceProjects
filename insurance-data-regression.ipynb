{
 "cells": [
  {
   "cell_type": "code",
   "execution_count": 1,
   "id": "e4400cca",
   "metadata": {
    "_cell_guid": "b1076dfc-b9ad-4769-8c92-a6c4dae69d19",
    "_uuid": "8f2839f25d086af736a60e9eeb907d3b93b6e0e5",
    "execution": {
     "iopub.execute_input": "2024-12-08T14:07:00.916042Z",
     "iopub.status.busy": "2024-12-08T14:07:00.915255Z",
     "iopub.status.idle": "2024-12-08T14:07:03.279193Z",
     "shell.execute_reply": "2024-12-08T14:07:03.277755Z"
    },
    "papermill": {
     "duration": 2.371685,
     "end_time": "2024-12-08T14:07:03.281875",
     "exception": false,
     "start_time": "2024-12-08T14:07:00.910190",
     "status": "completed"
    },
    "tags": []
   },
   "outputs": [],
   "source": [
    "import pandas as pd\n",
    "import numpy as np\n",
    "from sklearn.preprocessing import OneHotEncoder,StandardScaler\n",
    "from sklearn.model_selection import train_test_split"
   ]
  },
  {
   "cell_type": "code",
   "execution_count": 2,
   "id": "552cc935",
   "metadata": {
    "execution": {
     "iopub.execute_input": "2024-12-08T14:07:03.289976Z",
     "iopub.status.busy": "2024-12-08T14:07:03.289381Z",
     "iopub.status.idle": "2024-12-08T14:07:13.820775Z",
     "shell.execute_reply": "2024-12-08T14:07:13.819606Z"
    },
    "papermill": {
     "duration": 10.538176,
     "end_time": "2024-12-08T14:07:13.823322",
     "exception": false,
     "start_time": "2024-12-08T14:07:03.285146",
     "status": "completed"
    },
    "tags": []
   },
   "outputs": [],
   "source": [
    "test = pd.read_csv('/kaggle/input/playground-series-s4e12/test.csv')\n",
    "train = pd.read_csv('/kaggle/input/playground-series-s4e12/train.csv')"
   ]
  },
  {
   "cell_type": "code",
   "execution_count": 3,
   "id": "b8886d8a",
   "metadata": {
    "execution": {
     "iopub.execute_input": "2024-12-08T14:07:13.831021Z",
     "iopub.status.busy": "2024-12-08T14:07:13.830617Z",
     "iopub.status.idle": "2024-12-08T14:07:13.870347Z",
     "shell.execute_reply": "2024-12-08T14:07:13.869094Z"
    },
    "papermill": {
     "duration": 0.046021,
     "end_time": "2024-12-08T14:07:13.872459",
     "exception": false,
     "start_time": "2024-12-08T14:07:13.826438",
     "status": "completed"
    },
    "tags": []
   },
   "outputs": [
    {
     "data": {
      "text/html": [
       "<div>\n",
       "<style scoped>\n",
       "    .dataframe tbody tr th:only-of-type {\n",
       "        vertical-align: middle;\n",
       "    }\n",
       "\n",
       "    .dataframe tbody tr th {\n",
       "        vertical-align: top;\n",
       "    }\n",
       "\n",
       "    .dataframe thead th {\n",
       "        text-align: right;\n",
       "    }\n",
       "</style>\n",
       "<table border=\"1\" class=\"dataframe\">\n",
       "  <thead>\n",
       "    <tr style=\"text-align: right;\">\n",
       "      <th></th>\n",
       "      <th>id</th>\n",
       "      <th>Age</th>\n",
       "      <th>Gender</th>\n",
       "      <th>Annual Income</th>\n",
       "      <th>Marital Status</th>\n",
       "      <th>Number of Dependents</th>\n",
       "      <th>Education Level</th>\n",
       "      <th>Occupation</th>\n",
       "      <th>Health Score</th>\n",
       "      <th>Location</th>\n",
       "      <th>...</th>\n",
       "      <th>Previous Claims</th>\n",
       "      <th>Vehicle Age</th>\n",
       "      <th>Credit Score</th>\n",
       "      <th>Insurance Duration</th>\n",
       "      <th>Policy Start Date</th>\n",
       "      <th>Customer Feedback</th>\n",
       "      <th>Smoking Status</th>\n",
       "      <th>Exercise Frequency</th>\n",
       "      <th>Property Type</th>\n",
       "      <th>Premium Amount</th>\n",
       "    </tr>\n",
       "  </thead>\n",
       "  <tbody>\n",
       "    <tr>\n",
       "      <th>0</th>\n",
       "      <td>0</td>\n",
       "      <td>19.0</td>\n",
       "      <td>Female</td>\n",
       "      <td>10049.0</td>\n",
       "      <td>Married</td>\n",
       "      <td>1.0</td>\n",
       "      <td>Bachelor's</td>\n",
       "      <td>Self-Employed</td>\n",
       "      <td>22.598761</td>\n",
       "      <td>Urban</td>\n",
       "      <td>...</td>\n",
       "      <td>2.0</td>\n",
       "      <td>17.0</td>\n",
       "      <td>372.0</td>\n",
       "      <td>5.0</td>\n",
       "      <td>2023-12-23 15:21:39.134960</td>\n",
       "      <td>Poor</td>\n",
       "      <td>No</td>\n",
       "      <td>Weekly</td>\n",
       "      <td>House</td>\n",
       "      <td>2869.0</td>\n",
       "    </tr>\n",
       "    <tr>\n",
       "      <th>1</th>\n",
       "      <td>1</td>\n",
       "      <td>39.0</td>\n",
       "      <td>Female</td>\n",
       "      <td>31678.0</td>\n",
       "      <td>Divorced</td>\n",
       "      <td>3.0</td>\n",
       "      <td>Master's</td>\n",
       "      <td>NaN</td>\n",
       "      <td>15.569731</td>\n",
       "      <td>Rural</td>\n",
       "      <td>...</td>\n",
       "      <td>1.0</td>\n",
       "      <td>12.0</td>\n",
       "      <td>694.0</td>\n",
       "      <td>2.0</td>\n",
       "      <td>2023-06-12 15:21:39.111551</td>\n",
       "      <td>Average</td>\n",
       "      <td>Yes</td>\n",
       "      <td>Monthly</td>\n",
       "      <td>House</td>\n",
       "      <td>1483.0</td>\n",
       "    </tr>\n",
       "    <tr>\n",
       "      <th>2</th>\n",
       "      <td>2</td>\n",
       "      <td>23.0</td>\n",
       "      <td>Male</td>\n",
       "      <td>25602.0</td>\n",
       "      <td>Divorced</td>\n",
       "      <td>3.0</td>\n",
       "      <td>High School</td>\n",
       "      <td>Self-Employed</td>\n",
       "      <td>47.177549</td>\n",
       "      <td>Suburban</td>\n",
       "      <td>...</td>\n",
       "      <td>1.0</td>\n",
       "      <td>14.0</td>\n",
       "      <td>NaN</td>\n",
       "      <td>3.0</td>\n",
       "      <td>2023-09-30 15:21:39.221386</td>\n",
       "      <td>Good</td>\n",
       "      <td>Yes</td>\n",
       "      <td>Weekly</td>\n",
       "      <td>House</td>\n",
       "      <td>567.0</td>\n",
       "    </tr>\n",
       "    <tr>\n",
       "      <th>3</th>\n",
       "      <td>3</td>\n",
       "      <td>21.0</td>\n",
       "      <td>Male</td>\n",
       "      <td>141855.0</td>\n",
       "      <td>Married</td>\n",
       "      <td>2.0</td>\n",
       "      <td>Bachelor's</td>\n",
       "      <td>NaN</td>\n",
       "      <td>10.938144</td>\n",
       "      <td>Rural</td>\n",
       "      <td>...</td>\n",
       "      <td>1.0</td>\n",
       "      <td>0.0</td>\n",
       "      <td>367.0</td>\n",
       "      <td>1.0</td>\n",
       "      <td>2024-06-12 15:21:39.226954</td>\n",
       "      <td>Poor</td>\n",
       "      <td>Yes</td>\n",
       "      <td>Daily</td>\n",
       "      <td>Apartment</td>\n",
       "      <td>765.0</td>\n",
       "    </tr>\n",
       "    <tr>\n",
       "      <th>4</th>\n",
       "      <td>4</td>\n",
       "      <td>21.0</td>\n",
       "      <td>Male</td>\n",
       "      <td>39651.0</td>\n",
       "      <td>Single</td>\n",
       "      <td>1.0</td>\n",
       "      <td>Bachelor's</td>\n",
       "      <td>Self-Employed</td>\n",
       "      <td>20.376094</td>\n",
       "      <td>Rural</td>\n",
       "      <td>...</td>\n",
       "      <td>0.0</td>\n",
       "      <td>8.0</td>\n",
       "      <td>598.0</td>\n",
       "      <td>4.0</td>\n",
       "      <td>2021-12-01 15:21:39.252145</td>\n",
       "      <td>Poor</td>\n",
       "      <td>Yes</td>\n",
       "      <td>Weekly</td>\n",
       "      <td>House</td>\n",
       "      <td>2022.0</td>\n",
       "    </tr>\n",
       "  </tbody>\n",
       "</table>\n",
       "<p>5 rows × 21 columns</p>\n",
       "</div>"
      ],
      "text/plain": [
       "   id   Age  Gender  Annual Income Marital Status  Number of Dependents  \\\n",
       "0   0  19.0  Female        10049.0        Married                   1.0   \n",
       "1   1  39.0  Female        31678.0       Divorced                   3.0   \n",
       "2   2  23.0    Male        25602.0       Divorced                   3.0   \n",
       "3   3  21.0    Male       141855.0        Married                   2.0   \n",
       "4   4  21.0    Male        39651.0         Single                   1.0   \n",
       "\n",
       "  Education Level     Occupation  Health Score  Location  ... Previous Claims  \\\n",
       "0      Bachelor's  Self-Employed     22.598761     Urban  ...             2.0   \n",
       "1        Master's            NaN     15.569731     Rural  ...             1.0   \n",
       "2     High School  Self-Employed     47.177549  Suburban  ...             1.0   \n",
       "3      Bachelor's            NaN     10.938144     Rural  ...             1.0   \n",
       "4      Bachelor's  Self-Employed     20.376094     Rural  ...             0.0   \n",
       "\n",
       "   Vehicle Age  Credit Score  Insurance Duration           Policy Start Date  \\\n",
       "0         17.0         372.0                 5.0  2023-12-23 15:21:39.134960   \n",
       "1         12.0         694.0                 2.0  2023-06-12 15:21:39.111551   \n",
       "2         14.0           NaN                 3.0  2023-09-30 15:21:39.221386   \n",
       "3          0.0         367.0                 1.0  2024-06-12 15:21:39.226954   \n",
       "4          8.0         598.0                 4.0  2021-12-01 15:21:39.252145   \n",
       "\n",
       "  Customer Feedback Smoking Status Exercise Frequency Property Type  \\\n",
       "0              Poor             No             Weekly         House   \n",
       "1           Average            Yes            Monthly         House   \n",
       "2              Good            Yes             Weekly         House   \n",
       "3              Poor            Yes              Daily     Apartment   \n",
       "4              Poor            Yes             Weekly         House   \n",
       "\n",
       "  Premium Amount  \n",
       "0         2869.0  \n",
       "1         1483.0  \n",
       "2          567.0  \n",
       "3          765.0  \n",
       "4         2022.0  \n",
       "\n",
       "[5 rows x 21 columns]"
      ]
     },
     "execution_count": 3,
     "metadata": {},
     "output_type": "execute_result"
    }
   ],
   "source": [
    "train.head()"
   ]
  },
  {
   "cell_type": "code",
   "execution_count": 4,
   "id": "1002fc9f",
   "metadata": {
    "execution": {
     "iopub.execute_input": "2024-12-08T14:07:13.881249Z",
     "iopub.status.busy": "2024-12-08T14:07:13.880288Z",
     "iopub.status.idle": "2024-12-08T14:07:13.884951Z",
     "shell.execute_reply": "2024-12-08T14:07:13.883891Z"
    },
    "papermill": {
     "duration": 0.01103,
     "end_time": "2024-12-08T14:07:13.887000",
     "exception": false,
     "start_time": "2024-12-08T14:07:13.875970",
     "status": "completed"
    },
    "tags": []
   },
   "outputs": [],
   "source": [
    "#train.info()"
   ]
  },
  {
   "cell_type": "code",
   "execution_count": 5,
   "id": "f2ec8581",
   "metadata": {
    "execution": {
     "iopub.execute_input": "2024-12-08T14:07:13.895221Z",
     "iopub.status.busy": "2024-12-08T14:07:13.894850Z",
     "iopub.status.idle": "2024-12-08T14:07:13.899671Z",
     "shell.execute_reply": "2024-12-08T14:07:13.898571Z"
    },
    "papermill": {
     "duration": 0.011528,
     "end_time": "2024-12-08T14:07:13.901915",
     "exception": false,
     "start_time": "2024-12-08T14:07:13.890387",
     "status": "completed"
    },
    "tags": []
   },
   "outputs": [],
   "source": [
    "#train.isna().sum().sum()"
   ]
  },
  {
   "cell_type": "code",
   "execution_count": 6,
   "id": "786f3ae0",
   "metadata": {
    "execution": {
     "iopub.execute_input": "2024-12-08T14:07:13.910880Z",
     "iopub.status.busy": "2024-12-08T14:07:13.909777Z",
     "iopub.status.idle": "2024-12-08T14:07:13.916666Z",
     "shell.execute_reply": "2024-12-08T14:07:13.915487Z"
    },
    "papermill": {
     "duration": 0.013577,
     "end_time": "2024-12-08T14:07:13.918915",
     "exception": false,
     "start_time": "2024-12-08T14:07:13.905338",
     "status": "completed"
    },
    "tags": []
   },
   "outputs": [],
   "source": [
    "def process_data(df):\n",
    "\n",
    "    df.drop(columns = ['id','Policy Start Date'], inplace = True)\n",
    "\n",
    "    non_numeric_cols = list(df.select_dtypes(exclude=['number']).columns.values)\n",
    "    numeric_cols = list(df.select_dtypes(include=['number']).columns.values)\n",
    "    \n",
    "    for col in non_numeric_cols:\n",
    "        df[col] = df[col].fillna(df[col].mode()[0])\n",
    "\n",
    "    for col in numeric_cols:\n",
    "        df[col] = df[col].fillna(df[col].mean())\n",
    "    \n",
    "    return df"
   ]
  },
  {
   "cell_type": "code",
   "execution_count": 7,
   "id": "3065c43f",
   "metadata": {
    "execution": {
     "iopub.execute_input": "2024-12-08T14:07:13.926982Z",
     "iopub.status.busy": "2024-12-08T14:07:13.926590Z",
     "iopub.status.idle": "2024-12-08T14:07:16.091788Z",
     "shell.execute_reply": "2024-12-08T14:07:16.090694Z"
    },
    "papermill": {
     "duration": 2.172106,
     "end_time": "2024-12-08T14:07:16.094333",
     "exception": false,
     "start_time": "2024-12-08T14:07:13.922227",
     "status": "completed"
    },
    "tags": []
   },
   "outputs": [],
   "source": [
    "train_data = process_data(train)"
   ]
  },
  {
   "cell_type": "code",
   "execution_count": 8,
   "id": "c947565d",
   "metadata": {
    "execution": {
     "iopub.execute_input": "2024-12-08T14:07:16.102825Z",
     "iopub.status.busy": "2024-12-08T14:07:16.102417Z",
     "iopub.status.idle": "2024-12-08T14:07:16.107287Z",
     "shell.execute_reply": "2024-12-08T14:07:16.106139Z"
    },
    "papermill": {
     "duration": 0.011642,
     "end_time": "2024-12-08T14:07:16.109428",
     "exception": false,
     "start_time": "2024-12-08T14:07:16.097786",
     "status": "completed"
    },
    "tags": []
   },
   "outputs": [],
   "source": [
    "#train.isna().sum().sum()"
   ]
  },
  {
   "cell_type": "code",
   "execution_count": 9,
   "id": "7e71c151",
   "metadata": {
    "execution": {
     "iopub.execute_input": "2024-12-08T14:07:16.117836Z",
     "iopub.status.busy": "2024-12-08T14:07:16.117423Z",
     "iopub.status.idle": "2024-12-08T14:07:16.124593Z",
     "shell.execute_reply": "2024-12-08T14:07:16.123420Z"
    },
    "papermill": {
     "duration": 0.013728,
     "end_time": "2024-12-08T14:07:16.126689",
     "exception": false,
     "start_time": "2024-12-08T14:07:16.112961",
     "status": "completed"
    },
    "tags": []
   },
   "outputs": [],
   "source": [
    "def prepare_data(df):\n",
    "    ohe = OneHotEncoder(handle_unknown='ignore',sparse_output = False\n",
    "                       ).set_output(transform = 'pandas')\n",
    "    scale = StandardScaler()\n",
    "\n",
    "    numeric_cols = list(df.select_dtypes(include=['number']\n",
    "                                         ).columns.values)\n",
    "    df[numeric_cols] = scale.fit_transform(df[numeric_cols])\n",
    "    \n",
    "    non_numeric_cols = list(df.select_dtypes(exclude=['number']\n",
    "                                            ).columns.values)\n",
    "    for col in non_numeric_cols:\n",
    "        transform = ohe.fit_transform(df[[col]])\n",
    "        df.drop(columns = col, inplace = True)\n",
    "        df = pd.concat([df,transform], axis=1)\n",
    "    return df"
   ]
  },
  {
   "cell_type": "code",
   "execution_count": 10,
   "id": "eab15072",
   "metadata": {
    "execution": {
     "iopub.execute_input": "2024-12-08T14:07:16.134884Z",
     "iopub.status.busy": "2024-12-08T14:07:16.134448Z",
     "iopub.status.idle": "2024-12-08T14:07:24.604522Z",
     "shell.execute_reply": "2024-12-08T14:07:24.603125Z"
    },
    "papermill": {
     "duration": 8.476995,
     "end_time": "2024-12-08T14:07:24.607067",
     "exception": false,
     "start_time": "2024-12-08T14:07:16.130072",
     "status": "completed"
    },
    "tags": []
   },
   "outputs": [],
   "source": [
    "tst = prepare_data(train_data)"
   ]
  },
  {
   "cell_type": "code",
   "execution_count": 11,
   "id": "b79d0b93",
   "metadata": {
    "execution": {
     "iopub.execute_input": "2024-12-08T14:07:24.615611Z",
     "iopub.status.busy": "2024-12-08T14:07:24.615224Z",
     "iopub.status.idle": "2024-12-08T14:07:24.619913Z",
     "shell.execute_reply": "2024-12-08T14:07:24.618660Z"
    },
    "papermill": {
     "duration": 0.011406,
     "end_time": "2024-12-08T14:07:24.621915",
     "exception": false,
     "start_time": "2024-12-08T14:07:24.610509",
     "status": "completed"
    },
    "tags": []
   },
   "outputs": [],
   "source": [
    "#tst.shape"
   ]
  }
 ],
 "metadata": {
  "kaggle": {
   "accelerator": "none",
   "dataSources": [
    {
     "databundleVersionId": 10305135,
     "sourceId": 84896,
     "sourceType": "competition"
    }
   ],
   "dockerImageVersionId": 30786,
   "isGpuEnabled": false,
   "isInternetEnabled": true,
   "language": "python",
   "sourceType": "notebook"
  },
  "kernelspec": {
   "display_name": "Python 3",
   "language": "python",
   "name": "python3"
  },
  "language_info": {
   "codemirror_mode": {
    "name": "ipython",
    "version": 3
   },
   "file_extension": ".py",
   "mimetype": "text/x-python",
   "name": "python",
   "nbconvert_exporter": "python",
   "pygments_lexer": "ipython3",
   "version": "3.10.14"
  },
  "papermill": {
   "default_parameters": {},
   "duration": 27.2891,
   "end_time": "2024-12-08T14:07:25.347896",
   "environment_variables": {},
   "exception": null,
   "input_path": "__notebook__.ipynb",
   "output_path": "__notebook__.ipynb",
   "parameters": {},
   "start_time": "2024-12-08T14:06:58.058796",
   "version": "2.6.0"
  }
 },
 "nbformat": 4,
 "nbformat_minor": 5
}
