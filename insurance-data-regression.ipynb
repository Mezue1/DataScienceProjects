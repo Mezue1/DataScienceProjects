{
 "cells": [
  {
   "cell_type": "code",
   "execution_count": 1,
   "id": "dbae4f7c",
   "metadata": {
    "_cell_guid": "b1076dfc-b9ad-4769-8c92-a6c4dae69d19",
    "_uuid": "8f2839f25d086af736a60e9eeb907d3b93b6e0e5",
    "execution": {
     "iopub.execute_input": "2024-12-11T08:22:33.699219Z",
     "iopub.status.busy": "2024-12-11T08:22:33.698656Z",
     "iopub.status.idle": "2024-12-11T08:22:36.411174Z",
     "shell.execute_reply": "2024-12-11T08:22:36.409627Z"
    },
    "papermill": {
     "duration": 2.721601,
     "end_time": "2024-12-11T08:22:36.413700",
     "exception": false,
     "start_time": "2024-12-11T08:22:33.692099",
     "status": "completed"
    },
    "tags": []
   },
   "outputs": [],
   "source": [
    "import pandas as pd\n",
    "import numpy as np\n",
    "from sklearn.preprocessing import OneHotEncoder,StandardScaler\n",
    "from sklearn.model_selection import train_test_split\n",
    "from sklearn.linear_model import LinearRegression"
   ]
  },
  {
   "cell_type": "code",
   "execution_count": 2,
   "id": "716ea6fe",
   "metadata": {
    "execution": {
     "iopub.execute_input": "2024-12-11T08:22:36.424230Z",
     "iopub.status.busy": "2024-12-11T08:22:36.423719Z",
     "iopub.status.idle": "2024-12-11T08:22:47.792070Z",
     "shell.execute_reply": "2024-12-11T08:22:47.791073Z"
    },
    "papermill": {
     "duration": 11.376392,
     "end_time": "2024-12-11T08:22:47.794582",
     "exception": false,
     "start_time": "2024-12-11T08:22:36.418190",
     "status": "completed"
    },
    "tags": []
   },
   "outputs": [],
   "source": [
    "test = pd.read_csv('/kaggle/input/playground-series-s4e12/test.csv')\n",
    "train = pd.read_csv('/kaggle/input/playground-series-s4e12/train.csv')\n",
    "sub = pd.read_csv('/kaggle/input/playground-series-s4e12/sample_submission.csv')"
   ]
  },
  {
   "cell_type": "code",
   "execution_count": 3,
   "id": "37f07b6e",
   "metadata": {
    "execution": {
     "iopub.execute_input": "2024-12-11T08:22:47.804590Z",
     "iopub.status.busy": "2024-12-11T08:22:47.804201Z",
     "iopub.status.idle": "2024-12-11T08:22:47.846096Z",
     "shell.execute_reply": "2024-12-11T08:22:47.844933Z"
    },
    "papermill": {
     "duration": 0.049571,
     "end_time": "2024-12-11T08:22:47.848449",
     "exception": false,
     "start_time": "2024-12-11T08:22:47.798878",
     "status": "completed"
    },
    "tags": []
   },
   "outputs": [
    {
     "data": {
      "text/html": [
       "<div>\n",
       "<style scoped>\n",
       "    .dataframe tbody tr th:only-of-type {\n",
       "        vertical-align: middle;\n",
       "    }\n",
       "\n",
       "    .dataframe tbody tr th {\n",
       "        vertical-align: top;\n",
       "    }\n",
       "\n",
       "    .dataframe thead th {\n",
       "        text-align: right;\n",
       "    }\n",
       "</style>\n",
       "<table border=\"1\" class=\"dataframe\">\n",
       "  <thead>\n",
       "    <tr style=\"text-align: right;\">\n",
       "      <th></th>\n",
       "      <th>id</th>\n",
       "      <th>Age</th>\n",
       "      <th>Gender</th>\n",
       "      <th>Annual Income</th>\n",
       "      <th>Marital Status</th>\n",
       "      <th>Number of Dependents</th>\n",
       "      <th>Education Level</th>\n",
       "      <th>Occupation</th>\n",
       "      <th>Health Score</th>\n",
       "      <th>Location</th>\n",
       "      <th>...</th>\n",
       "      <th>Previous Claims</th>\n",
       "      <th>Vehicle Age</th>\n",
       "      <th>Credit Score</th>\n",
       "      <th>Insurance Duration</th>\n",
       "      <th>Policy Start Date</th>\n",
       "      <th>Customer Feedback</th>\n",
       "      <th>Smoking Status</th>\n",
       "      <th>Exercise Frequency</th>\n",
       "      <th>Property Type</th>\n",
       "      <th>Premium Amount</th>\n",
       "    </tr>\n",
       "  </thead>\n",
       "  <tbody>\n",
       "    <tr>\n",
       "      <th>0</th>\n",
       "      <td>0</td>\n",
       "      <td>19.0</td>\n",
       "      <td>Female</td>\n",
       "      <td>10049.0</td>\n",
       "      <td>Married</td>\n",
       "      <td>1.0</td>\n",
       "      <td>Bachelor's</td>\n",
       "      <td>Self-Employed</td>\n",
       "      <td>22.598761</td>\n",
       "      <td>Urban</td>\n",
       "      <td>...</td>\n",
       "      <td>2.0</td>\n",
       "      <td>17.0</td>\n",
       "      <td>372.0</td>\n",
       "      <td>5.0</td>\n",
       "      <td>2023-12-23 15:21:39.134960</td>\n",
       "      <td>Poor</td>\n",
       "      <td>No</td>\n",
       "      <td>Weekly</td>\n",
       "      <td>House</td>\n",
       "      <td>2869.0</td>\n",
       "    </tr>\n",
       "    <tr>\n",
       "      <th>1</th>\n",
       "      <td>1</td>\n",
       "      <td>39.0</td>\n",
       "      <td>Female</td>\n",
       "      <td>31678.0</td>\n",
       "      <td>Divorced</td>\n",
       "      <td>3.0</td>\n",
       "      <td>Master's</td>\n",
       "      <td>NaN</td>\n",
       "      <td>15.569731</td>\n",
       "      <td>Rural</td>\n",
       "      <td>...</td>\n",
       "      <td>1.0</td>\n",
       "      <td>12.0</td>\n",
       "      <td>694.0</td>\n",
       "      <td>2.0</td>\n",
       "      <td>2023-06-12 15:21:39.111551</td>\n",
       "      <td>Average</td>\n",
       "      <td>Yes</td>\n",
       "      <td>Monthly</td>\n",
       "      <td>House</td>\n",
       "      <td>1483.0</td>\n",
       "    </tr>\n",
       "    <tr>\n",
       "      <th>2</th>\n",
       "      <td>2</td>\n",
       "      <td>23.0</td>\n",
       "      <td>Male</td>\n",
       "      <td>25602.0</td>\n",
       "      <td>Divorced</td>\n",
       "      <td>3.0</td>\n",
       "      <td>High School</td>\n",
       "      <td>Self-Employed</td>\n",
       "      <td>47.177549</td>\n",
       "      <td>Suburban</td>\n",
       "      <td>...</td>\n",
       "      <td>1.0</td>\n",
       "      <td>14.0</td>\n",
       "      <td>NaN</td>\n",
       "      <td>3.0</td>\n",
       "      <td>2023-09-30 15:21:39.221386</td>\n",
       "      <td>Good</td>\n",
       "      <td>Yes</td>\n",
       "      <td>Weekly</td>\n",
       "      <td>House</td>\n",
       "      <td>567.0</td>\n",
       "    </tr>\n",
       "    <tr>\n",
       "      <th>3</th>\n",
       "      <td>3</td>\n",
       "      <td>21.0</td>\n",
       "      <td>Male</td>\n",
       "      <td>141855.0</td>\n",
       "      <td>Married</td>\n",
       "      <td>2.0</td>\n",
       "      <td>Bachelor's</td>\n",
       "      <td>NaN</td>\n",
       "      <td>10.938144</td>\n",
       "      <td>Rural</td>\n",
       "      <td>...</td>\n",
       "      <td>1.0</td>\n",
       "      <td>0.0</td>\n",
       "      <td>367.0</td>\n",
       "      <td>1.0</td>\n",
       "      <td>2024-06-12 15:21:39.226954</td>\n",
       "      <td>Poor</td>\n",
       "      <td>Yes</td>\n",
       "      <td>Daily</td>\n",
       "      <td>Apartment</td>\n",
       "      <td>765.0</td>\n",
       "    </tr>\n",
       "    <tr>\n",
       "      <th>4</th>\n",
       "      <td>4</td>\n",
       "      <td>21.0</td>\n",
       "      <td>Male</td>\n",
       "      <td>39651.0</td>\n",
       "      <td>Single</td>\n",
       "      <td>1.0</td>\n",
       "      <td>Bachelor's</td>\n",
       "      <td>Self-Employed</td>\n",
       "      <td>20.376094</td>\n",
       "      <td>Rural</td>\n",
       "      <td>...</td>\n",
       "      <td>0.0</td>\n",
       "      <td>8.0</td>\n",
       "      <td>598.0</td>\n",
       "      <td>4.0</td>\n",
       "      <td>2021-12-01 15:21:39.252145</td>\n",
       "      <td>Poor</td>\n",
       "      <td>Yes</td>\n",
       "      <td>Weekly</td>\n",
       "      <td>House</td>\n",
       "      <td>2022.0</td>\n",
       "    </tr>\n",
       "  </tbody>\n",
       "</table>\n",
       "<p>5 rows × 21 columns</p>\n",
       "</div>"
      ],
      "text/plain": [
       "   id   Age  Gender  Annual Income Marital Status  Number of Dependents  \\\n",
       "0   0  19.0  Female        10049.0        Married                   1.0   \n",
       "1   1  39.0  Female        31678.0       Divorced                   3.0   \n",
       "2   2  23.0    Male        25602.0       Divorced                   3.0   \n",
       "3   3  21.0    Male       141855.0        Married                   2.0   \n",
       "4   4  21.0    Male        39651.0         Single                   1.0   \n",
       "\n",
       "  Education Level     Occupation  Health Score  Location  ... Previous Claims  \\\n",
       "0      Bachelor's  Self-Employed     22.598761     Urban  ...             2.0   \n",
       "1        Master's            NaN     15.569731     Rural  ...             1.0   \n",
       "2     High School  Self-Employed     47.177549  Suburban  ...             1.0   \n",
       "3      Bachelor's            NaN     10.938144     Rural  ...             1.0   \n",
       "4      Bachelor's  Self-Employed     20.376094     Rural  ...             0.0   \n",
       "\n",
       "   Vehicle Age  Credit Score  Insurance Duration           Policy Start Date  \\\n",
       "0         17.0         372.0                 5.0  2023-12-23 15:21:39.134960   \n",
       "1         12.0         694.0                 2.0  2023-06-12 15:21:39.111551   \n",
       "2         14.0           NaN                 3.0  2023-09-30 15:21:39.221386   \n",
       "3          0.0         367.0                 1.0  2024-06-12 15:21:39.226954   \n",
       "4          8.0         598.0                 4.0  2021-12-01 15:21:39.252145   \n",
       "\n",
       "  Customer Feedback Smoking Status Exercise Frequency Property Type  \\\n",
       "0              Poor             No             Weekly         House   \n",
       "1           Average            Yes            Monthly         House   \n",
       "2              Good            Yes             Weekly         House   \n",
       "3              Poor            Yes              Daily     Apartment   \n",
       "4              Poor            Yes             Weekly         House   \n",
       "\n",
       "  Premium Amount  \n",
       "0         2869.0  \n",
       "1         1483.0  \n",
       "2          567.0  \n",
       "3          765.0  \n",
       "4         2022.0  \n",
       "\n",
       "[5 rows x 21 columns]"
      ]
     },
     "execution_count": 3,
     "metadata": {},
     "output_type": "execute_result"
    }
   ],
   "source": [
    "train.head()"
   ]
  },
  {
   "cell_type": "code",
   "execution_count": 4,
   "id": "b4fce75d",
   "metadata": {
    "execution": {
     "iopub.execute_input": "2024-12-11T08:22:47.859179Z",
     "iopub.status.busy": "2024-12-11T08:22:47.858819Z",
     "iopub.status.idle": "2024-12-11T08:22:47.863487Z",
     "shell.execute_reply": "2024-12-11T08:22:47.862384Z"
    },
    "papermill": {
     "duration": 0.012407,
     "end_time": "2024-12-11T08:22:47.865579",
     "exception": false,
     "start_time": "2024-12-11T08:22:47.853172",
     "status": "completed"
    },
    "tags": []
   },
   "outputs": [],
   "source": [
    "#train.info()"
   ]
  },
  {
   "cell_type": "code",
   "execution_count": 5,
   "id": "644af076",
   "metadata": {
    "execution": {
     "iopub.execute_input": "2024-12-11T08:22:47.876019Z",
     "iopub.status.busy": "2024-12-11T08:22:47.875651Z",
     "iopub.status.idle": "2024-12-11T08:22:47.880407Z",
     "shell.execute_reply": "2024-12-11T08:22:47.879439Z"
    },
    "papermill": {
     "duration": 0.012581,
     "end_time": "2024-12-11T08:22:47.882666",
     "exception": false,
     "start_time": "2024-12-11T08:22:47.870085",
     "status": "completed"
    },
    "tags": []
   },
   "outputs": [],
   "source": [
    "#train.isna().sum().sum()"
   ]
  },
  {
   "cell_type": "code",
   "execution_count": 6,
   "id": "7ff9660a",
   "metadata": {
    "execution": {
     "iopub.execute_input": "2024-12-11T08:22:47.893390Z",
     "iopub.status.busy": "2024-12-11T08:22:47.893016Z",
     "iopub.status.idle": "2024-12-11T08:22:47.899235Z",
     "shell.execute_reply": "2024-12-11T08:22:47.898272Z"
    },
    "papermill": {
     "duration": 0.013969,
     "end_time": "2024-12-11T08:22:47.901376",
     "exception": false,
     "start_time": "2024-12-11T08:22:47.887407",
     "status": "completed"
    },
    "tags": []
   },
   "outputs": [],
   "source": [
    "def process_data(df):\n",
    "\n",
    "    df.drop(columns = ['id','Policy Start Date'], inplace = True)\n",
    "\n",
    "    non_numeric_cols = list(df.select_dtypes(exclude=['number']).columns.values)\n",
    "    numeric_cols = list(df.select_dtypes(include=['number']).columns.values)\n",
    "    \n",
    "    for col in non_numeric_cols:\n",
    "        df[col] = df[col].fillna(df[col].mode()[0])\n",
    "\n",
    "    for col in numeric_cols:\n",
    "        df[col] = df[col].fillna(df[col].mean())\n",
    "    \n",
    "    return df"
   ]
  },
  {
   "cell_type": "code",
   "execution_count": 7,
   "id": "84f38043",
   "metadata": {
    "execution": {
     "iopub.execute_input": "2024-12-11T08:22:47.911691Z",
     "iopub.status.busy": "2024-12-11T08:22:47.911297Z",
     "iopub.status.idle": "2024-12-11T08:22:50.104887Z",
     "shell.execute_reply": "2024-12-11T08:22:50.103246Z"
    },
    "papermill": {
     "duration": 2.204342,
     "end_time": "2024-12-11T08:22:50.110178",
     "exception": false,
     "start_time": "2024-12-11T08:22:47.905836",
     "status": "completed"
    },
    "tags": []
   },
   "outputs": [],
   "source": [
    "train_data = process_data(train)"
   ]
  },
  {
   "cell_type": "code",
   "execution_count": 8,
   "id": "548535ff",
   "metadata": {
    "execution": {
     "iopub.execute_input": "2024-12-11T08:22:50.124452Z",
     "iopub.status.busy": "2024-12-11T08:22:50.124027Z",
     "iopub.status.idle": "2024-12-11T08:22:50.130062Z",
     "shell.execute_reply": "2024-12-11T08:22:50.128398Z"
    },
    "papermill": {
     "duration": 0.015797,
     "end_time": "2024-12-11T08:22:50.132433",
     "exception": false,
     "start_time": "2024-12-11T08:22:50.116636",
     "status": "completed"
    },
    "tags": []
   },
   "outputs": [],
   "source": [
    "#train.isna().sum().sum()"
   ]
  },
  {
   "cell_type": "code",
   "execution_count": 9,
   "id": "7f434241",
   "metadata": {
    "execution": {
     "iopub.execute_input": "2024-12-11T08:22:50.144051Z",
     "iopub.status.busy": "2024-12-11T08:22:50.143580Z",
     "iopub.status.idle": "2024-12-11T08:22:50.151951Z",
     "shell.execute_reply": "2024-12-11T08:22:50.150498Z"
    },
    "papermill": {
     "duration": 0.017291,
     "end_time": "2024-12-11T08:22:50.154746",
     "exception": false,
     "start_time": "2024-12-11T08:22:50.137455",
     "status": "completed"
    },
    "tags": []
   },
   "outputs": [],
   "source": [
    "def prepare_data(df):\n",
    "    ohe = OneHotEncoder(handle_unknown='ignore',sparse_output = False\n",
    "                       ).set_output(transform = 'pandas')\n",
    "    scale = StandardScaler()\n",
    "\n",
    "    numeric_cols = list(df.select_dtypes(include=['number']\n",
    "                                         ).columns.values)\n",
    "    df[numeric_cols] = scale.fit_transform(df[numeric_cols])\n",
    "    \n",
    "    non_numeric_cols = list(df.select_dtypes(exclude=['number']\n",
    "                                            ).columns.values)\n",
    "    for col in non_numeric_cols:\n",
    "        transform = ohe.fit_transform(df[[col]])\n",
    "        df.drop(columns = col, inplace = True)\n",
    "        df = pd.concat([df,transform], axis=1)\n",
    "    return df"
   ]
  },
  {
   "cell_type": "code",
   "execution_count": 10,
   "id": "46369c9f",
   "metadata": {
    "execution": {
     "iopub.execute_input": "2024-12-11T08:22:50.166438Z",
     "iopub.status.busy": "2024-12-11T08:22:50.166050Z",
     "iopub.status.idle": "2024-12-11T08:22:58.504030Z",
     "shell.execute_reply": "2024-12-11T08:22:58.502945Z"
    },
    "papermill": {
     "duration": 8.347053,
     "end_time": "2024-12-11T08:22:58.506461",
     "exception": false,
     "start_time": "2024-12-11T08:22:50.159408",
     "status": "completed"
    },
    "tags": []
   },
   "outputs": [],
   "source": [
    "train_data_clean = prepare_data(train_data)"
   ]
  },
  {
   "cell_type": "code",
   "execution_count": 11,
   "id": "fa90394f",
   "metadata": {
    "execution": {
     "iopub.execute_input": "2024-12-11T08:22:58.517782Z",
     "iopub.status.busy": "2024-12-11T08:22:58.516806Z",
     "iopub.status.idle": "2024-12-11T08:22:58.521507Z",
     "shell.execute_reply": "2024-12-11T08:22:58.520545Z"
    },
    "papermill": {
     "duration": 0.012576,
     "end_time": "2024-12-11T08:22:58.523770",
     "exception": false,
     "start_time": "2024-12-11T08:22:58.511194",
     "status": "completed"
    },
    "tags": []
   },
   "outputs": [],
   "source": [
    "#tst.shape"
   ]
  },
  {
   "cell_type": "code",
   "execution_count": 12,
   "id": "04cdadcc",
   "metadata": {
    "execution": {
     "iopub.execute_input": "2024-12-11T08:22:58.534402Z",
     "iopub.status.busy": "2024-12-11T08:22:58.534017Z",
     "iopub.status.idle": "2024-12-11T08:22:58.541919Z",
     "shell.execute_reply": "2024-12-11T08:22:58.540756Z"
    },
    "papermill": {
     "duration": 0.016108,
     "end_time": "2024-12-11T08:22:58.544513",
     "exception": false,
     "start_time": "2024-12-11T08:22:58.528405",
     "status": "completed"
    },
    "tags": []
   },
   "outputs": [],
   "source": [
    "# Splitting variables\n",
    "y = train_data_clean[[\"Premium Amount\"]] # dependent\n",
    "train_data_clean.pop(\"Premium Amount\")\n",
    "X = train_data_clean\n"
   ]
  },
  {
   "cell_type": "code",
   "execution_count": 13,
   "id": "39489a9e",
   "metadata": {
    "execution": {
     "iopub.execute_input": "2024-12-11T08:22:58.555959Z",
     "iopub.status.busy": "2024-12-11T08:22:58.555575Z",
     "iopub.status.idle": "2024-12-11T08:22:59.525475Z",
     "shell.execute_reply": "2024-12-11T08:22:59.524234Z"
    },
    "papermill": {
     "duration": 0.978883,
     "end_time": "2024-12-11T08:22:59.528218",
     "exception": false,
     "start_time": "2024-12-11T08:22:58.549335",
     "status": "completed"
    },
    "tags": []
   },
   "outputs": [],
   "source": [
    "# Splitting dataset into test/train\n",
    "X_train, X_test, y_train, y_test = train_test_split(X, y, test_size = 0.2, random_state = 42)"
   ]
  },
  {
   "cell_type": "code",
   "execution_count": 14,
   "id": "e405e212",
   "metadata": {
    "execution": {
     "iopub.execute_input": "2024-12-11T08:22:59.538982Z",
     "iopub.status.busy": "2024-12-11T08:22:59.538593Z",
     "iopub.status.idle": "2024-12-11T08:23:02.301414Z",
     "shell.execute_reply": "2024-12-11T08:23:02.300222Z"
    },
    "papermill": {
     "duration": 2.771061,
     "end_time": "2024-12-11T08:23:02.303828",
     "exception": false,
     "start_time": "2024-12-11T08:22:59.532767",
     "status": "completed"
    },
    "tags": []
   },
   "outputs": [
    {
     "data": {
      "text/html": [
       "<style>#sk-container-id-1 {color: black;background-color: white;}#sk-container-id-1 pre{padding: 0;}#sk-container-id-1 div.sk-toggleable {background-color: white;}#sk-container-id-1 label.sk-toggleable__label {cursor: pointer;display: block;width: 100%;margin-bottom: 0;padding: 0.3em;box-sizing: border-box;text-align: center;}#sk-container-id-1 label.sk-toggleable__label-arrow:before {content: \"▸\";float: left;margin-right: 0.25em;color: #696969;}#sk-container-id-1 label.sk-toggleable__label-arrow:hover:before {color: black;}#sk-container-id-1 div.sk-estimator:hover label.sk-toggleable__label-arrow:before {color: black;}#sk-container-id-1 div.sk-toggleable__content {max-height: 0;max-width: 0;overflow: hidden;text-align: left;background-color: #f0f8ff;}#sk-container-id-1 div.sk-toggleable__content pre {margin: 0.2em;color: black;border-radius: 0.25em;background-color: #f0f8ff;}#sk-container-id-1 input.sk-toggleable__control:checked~div.sk-toggleable__content {max-height: 200px;max-width: 100%;overflow: auto;}#sk-container-id-1 input.sk-toggleable__control:checked~label.sk-toggleable__label-arrow:before {content: \"▾\";}#sk-container-id-1 div.sk-estimator input.sk-toggleable__control:checked~label.sk-toggleable__label {background-color: #d4ebff;}#sk-container-id-1 div.sk-label input.sk-toggleable__control:checked~label.sk-toggleable__label {background-color: #d4ebff;}#sk-container-id-1 input.sk-hidden--visually {border: 0;clip: rect(1px 1px 1px 1px);clip: rect(1px, 1px, 1px, 1px);height: 1px;margin: -1px;overflow: hidden;padding: 0;position: absolute;width: 1px;}#sk-container-id-1 div.sk-estimator {font-family: monospace;background-color: #f0f8ff;border: 1px dotted black;border-radius: 0.25em;box-sizing: border-box;margin-bottom: 0.5em;}#sk-container-id-1 div.sk-estimator:hover {background-color: #d4ebff;}#sk-container-id-1 div.sk-parallel-item::after {content: \"\";width: 100%;border-bottom: 1px solid gray;flex-grow: 1;}#sk-container-id-1 div.sk-label:hover label.sk-toggleable__label {background-color: #d4ebff;}#sk-container-id-1 div.sk-serial::before {content: \"\";position: absolute;border-left: 1px solid gray;box-sizing: border-box;top: 0;bottom: 0;left: 50%;z-index: 0;}#sk-container-id-1 div.sk-serial {display: flex;flex-direction: column;align-items: center;background-color: white;padding-right: 0.2em;padding-left: 0.2em;position: relative;}#sk-container-id-1 div.sk-item {position: relative;z-index: 1;}#sk-container-id-1 div.sk-parallel {display: flex;align-items: stretch;justify-content: center;background-color: white;position: relative;}#sk-container-id-1 div.sk-item::before, #sk-container-id-1 div.sk-parallel-item::before {content: \"\";position: absolute;border-left: 1px solid gray;box-sizing: border-box;top: 0;bottom: 0;left: 50%;z-index: -1;}#sk-container-id-1 div.sk-parallel-item {display: flex;flex-direction: column;z-index: 1;position: relative;background-color: white;}#sk-container-id-1 div.sk-parallel-item:first-child::after {align-self: flex-end;width: 50%;}#sk-container-id-1 div.sk-parallel-item:last-child::after {align-self: flex-start;width: 50%;}#sk-container-id-1 div.sk-parallel-item:only-child::after {width: 0;}#sk-container-id-1 div.sk-dashed-wrapped {border: 1px dashed gray;margin: 0 0.4em 0.5em 0.4em;box-sizing: border-box;padding-bottom: 0.4em;background-color: white;}#sk-container-id-1 div.sk-label label {font-family: monospace;font-weight: bold;display: inline-block;line-height: 1.2em;}#sk-container-id-1 div.sk-label-container {text-align: center;}#sk-container-id-1 div.sk-container {/* jupyter's `normalize.less` sets `[hidden] { display: none; }` but bootstrap.min.css set `[hidden] { display: none !important; }` so we also need the `!important` here to be able to override the default hidden behavior on the sphinx rendered scikit-learn.org. See: https://github.com/scikit-learn/scikit-learn/issues/21755 */display: inline-block !important;position: relative;}#sk-container-id-1 div.sk-text-repr-fallback {display: none;}</style><div id=\"sk-container-id-1\" class=\"sk-top-container\"><div class=\"sk-text-repr-fallback\"><pre>LinearRegression()</pre><b>In a Jupyter environment, please rerun this cell to show the HTML representation or trust the notebook. <br />On GitHub, the HTML representation is unable to render, please try loading this page with nbviewer.org.</b></div><div class=\"sk-container\" hidden><div class=\"sk-item\"><div class=\"sk-estimator sk-toggleable\"><input class=\"sk-toggleable__control sk-hidden--visually\" id=\"sk-estimator-id-1\" type=\"checkbox\" checked><label for=\"sk-estimator-id-1\" class=\"sk-toggleable__label sk-toggleable__label-arrow\">LinearRegression</label><div class=\"sk-toggleable__content\"><pre>LinearRegression()</pre></div></div></div></div></div>"
      ],
      "text/plain": [
       "LinearRegression()"
      ]
     },
     "execution_count": 14,
     "metadata": {},
     "output_type": "execute_result"
    }
   ],
   "source": [
    "# Regressor model\n",
    "regressor = LinearRegression()\n",
    "regressor.fit(X_train, y_train)"
   ]
  },
  {
   "cell_type": "code",
   "execution_count": 15,
   "id": "e479728f",
   "metadata": {
    "execution": {
     "iopub.execute_input": "2024-12-11T08:23:02.315846Z",
     "iopub.status.busy": "2024-12-11T08:23:02.314871Z",
     "iopub.status.idle": "2024-12-11T08:23:09.188383Z",
     "shell.execute_reply": "2024-12-11T08:23:09.187076Z"
    },
    "papermill": {
     "duration": 6.883374,
     "end_time": "2024-12-11T08:23:09.191955",
     "exception": false,
     "start_time": "2024-12-11T08:23:02.308581",
     "status": "completed"
    },
    "tags": []
   },
   "outputs": [],
   "source": [
    "test_data = process_data(test)\n",
    "test_data_clean = prepare_data(test_data)"
   ]
  },
  {
   "cell_type": "code",
   "execution_count": 16,
   "id": "c72d5bc2",
   "metadata": {
    "execution": {
     "iopub.execute_input": "2024-12-11T08:23:09.207211Z",
     "iopub.status.busy": "2024-12-11T08:23:09.206825Z",
     "iopub.status.idle": "2024-12-11T08:23:09.354864Z",
     "shell.execute_reply": "2024-12-11T08:23:09.353230Z"
    },
    "papermill": {
     "duration": 0.15909,
     "end_time": "2024-12-11T08:23:09.358251",
     "exception": false,
     "start_time": "2024-12-11T08:23:09.199161",
     "status": "completed"
    },
    "tags": []
   },
   "outputs": [],
   "source": [
    "pred = regressor.predict(test_data_clean)"
   ]
  },
  {
   "cell_type": "code",
   "execution_count": 17,
   "id": "a4006f0b",
   "metadata": {
    "execution": {
     "iopub.execute_input": "2024-12-11T08:23:09.381152Z",
     "iopub.status.busy": "2024-12-11T08:23:09.379862Z",
     "iopub.status.idle": "2024-12-11T08:23:09.391323Z",
     "shell.execute_reply": "2024-12-11T08:23:09.390215Z"
    },
    "papermill": {
     "duration": 0.026687,
     "end_time": "2024-12-11T08:23:09.394706",
     "exception": false,
     "start_time": "2024-12-11T08:23:09.368019",
     "status": "completed"
    },
    "tags": []
   },
   "outputs": [],
   "source": [
    "sub['Premium Amount'] = pred"
   ]
  },
  {
   "cell_type": "code",
   "execution_count": 18,
   "id": "aa0db0c0",
   "metadata": {
    "execution": {
     "iopub.execute_input": "2024-12-11T08:23:09.416209Z",
     "iopub.status.busy": "2024-12-11T08:23:09.415119Z",
     "iopub.status.idle": "2024-12-11T08:23:10.817937Z",
     "shell.execute_reply": "2024-12-11T08:23:10.816834Z"
    },
    "papermill": {
     "duration": 1.417506,
     "end_time": "2024-12-11T08:23:10.820827",
     "exception": false,
     "start_time": "2024-12-11T08:23:09.403321",
     "status": "completed"
    },
    "tags": []
   },
   "outputs": [],
   "source": [
    "sub.to_csv('Submission.csv',index =False)"
   ]
  }
 ],
 "metadata": {
  "kaggle": {
   "accelerator": "none",
   "dataSources": [
    {
     "databundleVersionId": 10305135,
     "sourceId": 84896,
     "sourceType": "competition"
    }
   ],
   "dockerImageVersionId": 30786,
   "isGpuEnabled": false,
   "isInternetEnabled": true,
   "language": "python",
   "sourceType": "notebook"
  },
  "kernelspec": {
   "display_name": "Python 3",
   "language": "python",
   "name": "python3"
  },
  "language_info": {
   "codemirror_mode": {
    "name": "ipython",
    "version": 3
   },
   "file_extension": ".py",
   "mimetype": "text/x-python",
   "name": "python",
   "nbconvert_exporter": "python",
   "pygments_lexer": "ipython3",
   "version": "3.10.14"
  },
  "papermill": {
   "default_parameters": {},
   "duration": 40.6599,
   "end_time": "2024-12-11T08:23:11.547227",
   "environment_variables": {},
   "exception": null,
   "input_path": "__notebook__.ipynb",
   "output_path": "__notebook__.ipynb",
   "parameters": {},
   "start_time": "2024-12-11T08:22:30.887327",
   "version": "2.6.0"
  }
 },
 "nbformat": 4,
 "nbformat_minor": 5
}
